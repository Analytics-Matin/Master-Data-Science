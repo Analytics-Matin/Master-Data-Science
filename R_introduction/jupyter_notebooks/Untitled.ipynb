{
 "cells": [
  {
   "cell_type": "code",
   "execution_count": null,
   "metadata": {},
   "outputs": [],
   "source": [
    "library(tidyverse)\n",
    "library(nycflights13)"
   ]
  },
  {
   "cell_type": "markdown",
   "metadata": {},
   "source": [
    "---\n",
    "### Pŕactica 1"
   ]
  },
  {
   "cell_type": "markdown",
   "metadata": {},
   "source": [
    "¿que classe de objeto es `mpg`? ¿cuántas columnas y filas tiene? ¿cuántas variables? ¿de qué tipo? ¿Cuál es la descripción de cada variable? (escribe las líneas de código en la siguiente celda)"
   ]
  },
  {
   "cell_type": "code",
   "execution_count": null,
   "metadata": {},
   "outputs": [],
   "source": [
    "# Visualiza la estructura de `mpg`\n",
    "class(mpg)\n",
    "str(mpg)\n",
    "# Accede a la página de ayuda del dataset\n",
    "?mpg\n"
   ]
  },
  {
   "cell_type": "markdown",
   "metadata": {},
   "source": [
    "Nos fijaremos en dos variables:\n",
    "* `displ`, tamaño del motor del coche en litros\n",
    "* `hwy`, la eficiencia de combustible en millas por galón (1 mpg =  4.5 litros). Un automóvil con una eficiencia de combustible baja consume más combustible que un automóvil con una eficiencia alta cuando recorren la misma distancia."
   ]
  },
  {
   "cell_type": "markdown",
   "metadata": {},
   "source": [
    "Utiliza `ggplot` para visualizar una variable frente a la otra en la siguiente celda."
   ]
  },
  {
   "cell_type": "code",
   "execution_count": null,
   "metadata": {},
   "outputs": [],
   "source": [
    "# ggplot(...) + geom_point(...)\n",
    "ggplot(mpg) +\n",
    "geom_point(mapping = aes(x = displ, y = hwy))"
   ]
  },
  {
   "cell_type": "markdown",
   "metadata": {},
   "source": [
    "¿qué podemos decir de estas dos variables?\n",
    "¿La relación entre ambas es negativa o positiva? ¿que conclusión sacamos?\n",
    "\n",
    "\n",
    "***Si trazasemos una línea recta imaginaria que se aproxime a la nuve de puntos, obtendríamos una línea con pendiente negativa, es decir, Existe una relación negativa, es decir, a mayor tamaño de motor menor es la eficiencia.***\n",
    "\n",
    "***Sin embargo, parece que hay una nuve de puntos que escapa a esa relación, podríamos pensar que quizá se trata de otro tipo de motor, ¿coches hibridos? ¿como podemos saber a que se debe?***\n",
    "\n",
    "---"
   ]
  },
  {
   "cell_type": "markdown",
   "metadata": {},
   "source": [
    "---\n",
    "### Práctica 2\n",
    "\n",
    "1) ¿Que tipo de variable es `class`? Elige una variable continua y crea un gráfico de la misma en función de las variables `displ` y `hwy` \n",
    "¿Cómo se comportan los estéticos para variables continuas en comparación a las categóricas?\n"
   ]
  },
  {
   "cell_type": "code",
   "execution_count": null,
   "metadata": {},
   "outputs": [],
   "source": [
    "# ggplot...\n",
    "ggplot(mpg) +\n",
    "geom_point(aes(displ, hwy, color = cty)) # Instead of using discrete colors, the continuous variable uses a scale that varies from a light to dark blue color.\n"
   ]
  },
  {
   "cell_type": "markdown",
   "metadata": {},
   "source": [
    "2) Crea un gráfico de puntos (`displ` vs `hwy`) con `ggplot` donde los puntos se diferencien por color (`color`) para una variable categórica y por tamaño de punto (`size`) para una variable continua (e.g.`cty`)."
   ]
  },
  {
   "cell_type": "code",
   "execution_count": null,
   "metadata": {},
   "outputs": [],
   "source": [
    "ggplot(mpg) +\n",
    "geom_point(aes(x = displ, y = hwy, color = class, size = cty))"
   ]
  },
  {
   "cell_type": "markdown",
   "metadata": {},
   "source": [
    "3) ¿Qué ocurre cuando intentamos diferenciar los puntos por forma (`shape`) en base a una variable continua (e.g. `cty`)?"
   ]
  },
  {
   "cell_type": "code",
   "execution_count": null,
   "metadata": {},
   "outputs": [],
   "source": [
    "# ggplot...\n",
    "\n",
    "ggplot(mpg) +\n",
    "geom_point(aes(x = displ, y = hwy, color = class, shape= cty)) \n",
    "## error A continuous variable can not be mapped to shape"
   ]
  },
  {
   "cell_type": "markdown",
   "metadata": {},
   "source": [
    "---"
   ]
  },
  {
   "cell_type": "markdown",
   "metadata": {},
   "source": [
    "---\n",
    "### Practica 3\n",
    "\n",
    "1) Utiliza `filter()` y `is.na()` (en lugar de un operador comparativo) para saber cuantos vuelos no contienen datos de hora de salida.\n",
    " \n",
    "2) ¿Que trayectos más largos? ¿y los más cortos? utiliza `arrange()`.\n"
   ]
  },
  {
   "cell_type": "code",
   "execution_count": null,
   "metadata": {},
   "outputs": [],
   "source": [
    "#1) \n",
    "print(filter(flights, is.na(dep_time)))\n",
    "#2)\n",
    "longest <- arrange(flights, desc(distance))\n",
    "shortest <- arrange(flights, distance)"
   ]
  },
  {
   "cell_type": "markdown",
   "metadata": {},
   "source": [
    "---"
   ]
  },
  {
   "cell_type": "markdown",
   "metadata": {},
   "source": [
    "---\n",
    "\n",
    "### Práctica 4\n",
    "\n",
    "¿Qúe función de importación utilizarías mara un archivo separado por \"|\" (e.g. \"a|b|c\\n1|2|3\")? Escribe un ejemplo a continuación:"
   ]
  },
  {
   "cell_type": "code",
   "execution_count": null,
   "metadata": {},
   "outputs": [],
   "source": [
    "read_delim(\"a|b|c\\n1|2|3\", delim = \"|\")"
   ]
  },
  {
   "cell_type": "markdown",
   "metadata": {},
   "source": [
    "Identifica qué está mal en los siguientes archivos CSV y corrígelo:"
   ]
  },
  {
   "cell_type": "code",
   "execution_count": null,
   "metadata": {},
   "outputs": [],
   "source": [
    "read_csv(\"a,b\\n1,2,3\\n4,5,6\")\n",
    "read_csv(\"a;b\\n1;3\")\n"
   ]
  },
  {
   "cell_type": "code",
   "execution_count": null,
   "metadata": {},
   "outputs": [],
   "source": [
    "read_csv(\"a,b,.\\n1,2,3\\n4,5,6\"); read_csv(\"a,b,c\\n1,2,3\\n4,5,6\")\n",
    "\n",
    "read_csv(\"a,b\\n1,3\"); read_delim(\"a;b\\n1;3\", delim = \";\")\n"
   ]
  },
  {
   "cell_type": "markdown",
   "metadata": {},
   "source": [
    "---"
   ]
  },
  {
   "cell_type": "markdown",
   "metadata": {},
   "source": [
    "\n",
    "---\n",
    "\n",
    "### Práctica 5\n",
    "\n",
    "Exporta el dataset `flights` al directorio que quieras (utiliza `?write_csv` como ayuda)."
   ]
  },
  {
   "cell_type": "code",
   "execution_count": null,
   "metadata": {},
   "outputs": [],
   "source": [
    "# write_...\n",
    "write_csv(flights, path = \"data/output.csv\")"
   ]
  },
  {
   "cell_type": "markdown",
   "metadata": {},
   "source": [
    "--- \n",
    "### Práctica 6\n",
    "\n",
    "Utiliza el dataset `flights` y la función `unite()` para crear la variable `fecha` que combina el año, el mes y el día."
   ]
  },
  {
   "cell_type": "code",
   "execution_count": null,
   "metadata": {},
   "outputs": [],
   "source": [
    "# unite()..\n",
    "unite(flights, fecha, year, month, day)"
   ]
  },
  {
   "cell_type": "markdown",
   "metadata": {},
   "source": [
    "---"
   ]
  },
  {
   "cell_type": "markdown",
   "metadata": {},
   "source": [
    "---"
   ]
  }
 ],
 "metadata": {
  "kernelspec": {
   "display_name": "R",
   "language": "R",
   "name": "ir"
  },
  "language_info": {
   "codemirror_mode": "r",
   "file_extension": ".r",
   "mimetype": "text/x-r-source",
   "name": "R",
   "pygments_lexer": "r",
   "version": "3.4.3"
  }
 },
 "nbformat": 4,
 "nbformat_minor": 2
}
